{
  "cells": [
    {
      "cell_type": "code",
      "execution_count": 36,
      "metadata": {
        "id": "r4KaT4fZ-DpD"
      },
      "outputs": [],
      "source": [
        "import numpy as np\n",
        "import pandas as pd"
      ]
    },
    {
      "cell_type": "code",
      "execution_count": 37,
      "metadata": {
        "id": "1BycwrA3-hui"
      },
      "outputs": [],
      "source": [
        "movies = pd.read_csv('../../data/movies.csv')\n",
        "ratings = pd.read_csv('../../data/ratings.csv')"
      ]
    },
    {
      "cell_type": "code",
      "execution_count": 38,
      "metadata": {
        "colab": {
          "base_uri": "https://localhost:8080/",
          "height": 484
        },
        "id": "YmMWQKkH_USK",
        "outputId": "7ba944ec-e40f-439a-dbc8-7657eaafb55a"
      },
      "outputs": [
        {
          "data": {
            "text/html": [
              "<div>\n",
              "<style scoped>\n",
              "    .dataframe tbody tr th:only-of-type {\n",
              "        vertical-align: middle;\n",
              "    }\n",
              "\n",
              "    .dataframe tbody tr th {\n",
              "        vertical-align: top;\n",
              "    }\n",
              "\n",
              "    .dataframe thead th {\n",
              "        text-align: right;\n",
              "    }\n",
              "</style>\n",
              "<table border=\"1\" class=\"dataframe\">\n",
              "  <thead>\n",
              "    <tr style=\"text-align: right;\">\n",
              "      <th></th>\n",
              "      <th>movieId</th>\n",
              "      <th>title</th>\n",
              "      <th>genres</th>\n",
              "      <th>imdb_id</th>\n",
              "      <th>overview</th>\n",
              "      <th>poster_path</th>\n",
              "      <th>runtime</th>\n",
              "    </tr>\n",
              "  </thead>\n",
              "  <tbody>\n",
              "    <tr>\n",
              "      <th>0</th>\n",
              "      <td>862</td>\n",
              "      <td>Toy Story (1995)</td>\n",
              "      <td>Animation|Comedy|Family</td>\n",
              "      <td>tt0114709</td>\n",
              "      <td>Led by Woody, Andy's toys live happily in his ...</td>\n",
              "      <td>/rhIRbceoE9lR4veEXuwCC2wARtG.jpg</td>\n",
              "      <td>81</td>\n",
              "    </tr>\n",
              "    <tr>\n",
              "      <th>1</th>\n",
              "      <td>8844</td>\n",
              "      <td>Jumanji (1995)</td>\n",
              "      <td>Adventure|Fantasy|Family</td>\n",
              "      <td>tt0113497</td>\n",
              "      <td>When siblings Judy and Peter discover an encha...</td>\n",
              "      <td>/vzmL6fP7aPKNKPRTFnZmiUfciyV.jpg</td>\n",
              "      <td>104</td>\n",
              "    </tr>\n",
              "    <tr>\n",
              "      <th>2</th>\n",
              "      <td>15602</td>\n",
              "      <td>Grumpier Old Men (1995)</td>\n",
              "      <td>Romance|Comedy</td>\n",
              "      <td>tt0113228</td>\n",
              "      <td>A family wedding reignites the ancient feud be...</td>\n",
              "      <td>/6ksm1sjKMFLbO7UY2i6G1ju9SML.jpg</td>\n",
              "      <td>101</td>\n",
              "    </tr>\n",
              "    <tr>\n",
              "      <th>3</th>\n",
              "      <td>31357</td>\n",
              "      <td>Waiting to Exhale (1995)</td>\n",
              "      <td>Comedy|Drama|Romance</td>\n",
              "      <td>tt0114885</td>\n",
              "      <td>Cheated on, mistreated and stepped on, the wom...</td>\n",
              "      <td>/16XOMpEaLWkrcPqSQqhTmeJuqQl.jpg</td>\n",
              "      <td>127</td>\n",
              "    </tr>\n",
              "    <tr>\n",
              "      <th>4</th>\n",
              "      <td>11862</td>\n",
              "      <td>Father of the Bride Part II (1995)</td>\n",
              "      <td>Comedy</td>\n",
              "      <td>tt0113041</td>\n",
              "      <td>Just when George Banks has recovered from his ...</td>\n",
              "      <td>/e64sOI48hQXyru7naBFyssKFxVd.jpg</td>\n",
              "      <td>106</td>\n",
              "    </tr>\n",
              "  </tbody>\n",
              "</table>\n",
              "</div>"
            ],
            "text/plain": [
              "   movieId                               title                    genres  \\\n",
              "0      862                    Toy Story (1995)   Animation|Comedy|Family   \n",
              "1     8844                      Jumanji (1995)  Adventure|Fantasy|Family   \n",
              "2    15602             Grumpier Old Men (1995)            Romance|Comedy   \n",
              "3    31357            Waiting to Exhale (1995)      Comedy|Drama|Romance   \n",
              "4    11862  Father of the Bride Part II (1995)                    Comedy   \n",
              "\n",
              "     imdb_id                                           overview  \\\n",
              "0  tt0114709  Led by Woody, Andy's toys live happily in his ...   \n",
              "1  tt0113497  When siblings Judy and Peter discover an encha...   \n",
              "2  tt0113228  A family wedding reignites the ancient feud be...   \n",
              "3  tt0114885  Cheated on, mistreated and stepped on, the wom...   \n",
              "4  tt0113041  Just when George Banks has recovered from his ...   \n",
              "\n",
              "                        poster_path  runtime  \n",
              "0  /rhIRbceoE9lR4veEXuwCC2wARtG.jpg       81  \n",
              "1  /vzmL6fP7aPKNKPRTFnZmiUfciyV.jpg      104  \n",
              "2  /6ksm1sjKMFLbO7UY2i6G1ju9SML.jpg      101  \n",
              "3  /16XOMpEaLWkrcPqSQqhTmeJuqQl.jpg      127  \n",
              "4  /e64sOI48hQXyru7naBFyssKFxVd.jpg      106  "
            ]
          },
          "execution_count": 38,
          "metadata": {},
          "output_type": "execute_result"
        }
      ],
      "source": [
        "movies.head()"
      ]
    },
    {
      "cell_type": "code",
      "execution_count": 39,
      "metadata": {
        "colab": {
          "base_uri": "https://localhost:8080/"
        },
        "id": "pxMVXiG9_Xqq",
        "outputId": "58dca960-6088-46d1-8c3f-fec6937b799e"
      },
      "outputs": [
        {
          "data": {
            "text/plain": [
              "(42132, 7)"
            ]
          },
          "execution_count": 39,
          "metadata": {},
          "output_type": "execute_result"
        }
      ],
      "source": [
        "movies.shape"
      ]
    },
    {
      "cell_type": "code",
      "execution_count": 40,
      "metadata": {
        "colab": {
          "base_uri": "https://localhost:8080/",
          "height": 303
        },
        "id": "HBVDAm38_c4m",
        "outputId": "efbd922b-bcd2-4717-f448-5fc463cb8ee5"
      },
      "outputs": [
        {
          "data": {
            "text/plain": [
              "movieId        0\n",
              "title          0\n",
              "genres         0\n",
              "imdb_id        0\n",
              "overview       0\n",
              "poster_path    0\n",
              "runtime        0\n",
              "dtype: int64"
            ]
          },
          "execution_count": 40,
          "metadata": {},
          "output_type": "execute_result"
        }
      ],
      "source": [
        "movies.isnull().sum()"
      ]
    },
    {
      "cell_type": "code",
      "execution_count": 41,
      "metadata": {
        "colab": {
          "base_uri": "https://localhost:8080/"
        },
        "id": "pHrM2KrT_6A5",
        "outputId": "f351dca6-01be-48b2-8efb-02bc6185b253"
      },
      "outputs": [
        {
          "data": {
            "text/plain": [
              "30"
            ]
          },
          "execution_count": 41,
          "metadata": {},
          "output_type": "execute_result"
        }
      ],
      "source": [
        "movies.duplicated().sum()"
      ]
    },
    {
      "cell_type": "code",
      "execution_count": 42,
      "metadata": {
        "colab": {
          "base_uri": "https://localhost:8080/"
        },
        "id": "pNwK15mfAA7W",
        "outputId": "ac909d7b-050e-4ddc-f89b-1c00e8285e73"
      },
      "outputs": [
        {
          "data": {
            "text/plain": [
              "0"
            ]
          },
          "execution_count": 42,
          "metadata": {},
          "output_type": "execute_result"
        }
      ],
      "source": [
        "movies = movies.drop_duplicates()\n",
        "movies.duplicated().sum()"
      ]
    },
    {
      "cell_type": "code",
      "execution_count": 43,
      "metadata": {
        "id": "l3j2bIcrGk1P"
      },
      "outputs": [],
      "source": [
        "#for converting str to list\n",
        "def convert(text):\n",
        "    L = text.split('|')\n",
        "    return L"
      ]
    },
    {
      "cell_type": "code",
      "execution_count": 44,
      "metadata": {
        "id": "AdFW_X1THVmm"
      },
      "outputs": [],
      "source": [
        "movies['genres'] = movies['genres'].apply(convert)"
      ]
    },
    {
      "cell_type": "code",
      "execution_count": 45,
      "metadata": {
        "colab": {
          "base_uri": "https://localhost:8080/",
          "height": 397
        },
        "id": "Oa0yGSNeHWuo",
        "outputId": "0911dc13-6edb-40f0-9fbd-fa6f20b11b9b"
      },
      "outputs": [
        {
          "data": {
            "text/html": [
              "<div>\n",
              "<style scoped>\n",
              "    .dataframe tbody tr th:only-of-type {\n",
              "        vertical-align: middle;\n",
              "    }\n",
              "\n",
              "    .dataframe tbody tr th {\n",
              "        vertical-align: top;\n",
              "    }\n",
              "\n",
              "    .dataframe thead th {\n",
              "        text-align: right;\n",
              "    }\n",
              "</style>\n",
              "<table border=\"1\" class=\"dataframe\">\n",
              "  <thead>\n",
              "    <tr style=\"text-align: right;\">\n",
              "      <th></th>\n",
              "      <th>movieId</th>\n",
              "      <th>title</th>\n",
              "      <th>genres</th>\n",
              "      <th>imdb_id</th>\n",
              "      <th>overview</th>\n",
              "      <th>poster_path</th>\n",
              "      <th>runtime</th>\n",
              "    </tr>\n",
              "  </thead>\n",
              "  <tbody>\n",
              "    <tr>\n",
              "      <th>0</th>\n",
              "      <td>862</td>\n",
              "      <td>Toy Story (1995)</td>\n",
              "      <td>[Animation, Comedy, Family]</td>\n",
              "      <td>tt0114709</td>\n",
              "      <td>Led by Woody, Andy's toys live happily in his ...</td>\n",
              "      <td>/rhIRbceoE9lR4veEXuwCC2wARtG.jpg</td>\n",
              "      <td>81</td>\n",
              "    </tr>\n",
              "    <tr>\n",
              "      <th>1</th>\n",
              "      <td>8844</td>\n",
              "      <td>Jumanji (1995)</td>\n",
              "      <td>[Adventure, Fantasy, Family]</td>\n",
              "      <td>tt0113497</td>\n",
              "      <td>When siblings Judy and Peter discover an encha...</td>\n",
              "      <td>/vzmL6fP7aPKNKPRTFnZmiUfciyV.jpg</td>\n",
              "      <td>104</td>\n",
              "    </tr>\n",
              "    <tr>\n",
              "      <th>2</th>\n",
              "      <td>15602</td>\n",
              "      <td>Grumpier Old Men (1995)</td>\n",
              "      <td>[Romance, Comedy]</td>\n",
              "      <td>tt0113228</td>\n",
              "      <td>A family wedding reignites the ancient feud be...</td>\n",
              "      <td>/6ksm1sjKMFLbO7UY2i6G1ju9SML.jpg</td>\n",
              "      <td>101</td>\n",
              "    </tr>\n",
              "    <tr>\n",
              "      <th>3</th>\n",
              "      <td>31357</td>\n",
              "      <td>Waiting to Exhale (1995)</td>\n",
              "      <td>[Comedy, Drama, Romance]</td>\n",
              "      <td>tt0114885</td>\n",
              "      <td>Cheated on, mistreated and stepped on, the wom...</td>\n",
              "      <td>/16XOMpEaLWkrcPqSQqhTmeJuqQl.jpg</td>\n",
              "      <td>127</td>\n",
              "    </tr>\n",
              "    <tr>\n",
              "      <th>4</th>\n",
              "      <td>11862</td>\n",
              "      <td>Father of the Bride Part II (1995)</td>\n",
              "      <td>[Comedy]</td>\n",
              "      <td>tt0113041</td>\n",
              "      <td>Just when George Banks has recovered from his ...</td>\n",
              "      <td>/e64sOI48hQXyru7naBFyssKFxVd.jpg</td>\n",
              "      <td>106</td>\n",
              "    </tr>\n",
              "  </tbody>\n",
              "</table>\n",
              "</div>"
            ],
            "text/plain": [
              "   movieId                               title                        genres  \\\n",
              "0      862                    Toy Story (1995)   [Animation, Comedy, Family]   \n",
              "1     8844                      Jumanji (1995)  [Adventure, Fantasy, Family]   \n",
              "2    15602             Grumpier Old Men (1995)             [Romance, Comedy]   \n",
              "3    31357            Waiting to Exhale (1995)      [Comedy, Drama, Romance]   \n",
              "4    11862  Father of the Bride Part II (1995)                      [Comedy]   \n",
              "\n",
              "     imdb_id                                           overview  \\\n",
              "0  tt0114709  Led by Woody, Andy's toys live happily in his ...   \n",
              "1  tt0113497  When siblings Judy and Peter discover an encha...   \n",
              "2  tt0113228  A family wedding reignites the ancient feud be...   \n",
              "3  tt0114885  Cheated on, mistreated and stepped on, the wom...   \n",
              "4  tt0113041  Just when George Banks has recovered from his ...   \n",
              "\n",
              "                        poster_path  runtime  \n",
              "0  /rhIRbceoE9lR4veEXuwCC2wARtG.jpg       81  \n",
              "1  /vzmL6fP7aPKNKPRTFnZmiUfciyV.jpg      104  \n",
              "2  /6ksm1sjKMFLbO7UY2i6G1ju9SML.jpg      101  \n",
              "3  /16XOMpEaLWkrcPqSQqhTmeJuqQl.jpg      127  \n",
              "4  /e64sOI48hQXyru7naBFyssKFxVd.jpg      106  "
            ]
          },
          "execution_count": 45,
          "metadata": {},
          "output_type": "execute_result"
        }
      ],
      "source": [
        "movies.head()"
      ]
    },
    {
      "cell_type": "code",
      "execution_count": 46,
      "metadata": {
        "colab": {
          "base_uri": "https://localhost:8080/",
          "height": 296
        },
        "id": "cEzasew0Har0",
        "outputId": "3d042088-f53c-4673-89d5-c9deff02eb77"
      },
      "outputs": [
        {
          "data": {
            "text/html": [
              "<div>\n",
              "<style scoped>\n",
              "    .dataframe tbody tr th:only-of-type {\n",
              "        vertical-align: middle;\n",
              "    }\n",
              "\n",
              "    .dataframe tbody tr th {\n",
              "        vertical-align: top;\n",
              "    }\n",
              "\n",
              "    .dataframe thead th {\n",
              "        text-align: right;\n",
              "    }\n",
              "</style>\n",
              "<table border=\"1\" class=\"dataframe\">\n",
              "  <thead>\n",
              "    <tr style=\"text-align: right;\">\n",
              "      <th></th>\n",
              "      <th>movieId</th>\n",
              "      <th>title</th>\n",
              "      <th>genres</th>\n",
              "      <th>imdb_id</th>\n",
              "      <th>overview</th>\n",
              "      <th>poster_path</th>\n",
              "      <th>runtime</th>\n",
              "    </tr>\n",
              "  </thead>\n",
              "  <tbody>\n",
              "    <tr>\n",
              "      <th>23298</th>\n",
              "      <td>64835</td>\n",
              "      <td>Corpo celeste (2011)</td>\n",
              "      <td>[Drama]</td>\n",
              "      <td>tt1886502</td>\n",
              "      <td>[After, growing, up, in, Switzerland,, 13-year...</td>\n",
              "      <td>/mVc2oIwMtl83fDi2BZ9QH0jKIoH.jpg</td>\n",
              "      <td>100</td>\n",
              "    </tr>\n",
              "    <tr>\n",
              "      <th>34152</th>\n",
              "      <td>206292</td>\n",
              "      <td>The Desert (2013)</td>\n",
              "      <td>[Science Fiction, Drama]</td>\n",
              "      <td>tt2665470</td>\n",
              "      <td>[The, failed, story, of, a, love, triangle, in...</td>\n",
              "      <td>/g3O5u6sDCypCiGDUeGrpYk7ZJgh.jpg</td>\n",
              "      <td>98</td>\n",
              "    </tr>\n",
              "    <tr>\n",
              "      <th>38120</th>\n",
              "      <td>348315</td>\n",
              "      <td>Clean Hands (2015)</td>\n",
              "      <td>[Crime, Drama, Thriller]</td>\n",
              "      <td>tt3855240</td>\n",
              "      <td>[Sylvia, has, turned, a, blind, eye, for, too,...</td>\n",
              "      <td>/n7e3UySlfKPkS89ajfJ3td0EdNr.jpg</td>\n",
              "      <td>100</td>\n",
              "    </tr>\n",
              "    <tr>\n",
              "      <th>34466</th>\n",
              "      <td>20907</td>\n",
              "      <td>Opium: Diary of a Madwoman (2007)</td>\n",
              "      <td>[Drama]</td>\n",
              "      <td>tt0803052</td>\n",
              "      <td>[A, drug-addicted, doctor, who, works, in, an,...</td>\n",
              "      <td>/gmOopHuQiwkWUtRpvch2rTwzndH.jpg</td>\n",
              "      <td>113</td>\n",
              "    </tr>\n",
              "  </tbody>\n",
              "</table>\n",
              "</div>"
            ],
            "text/plain": [
              "       movieId                              title                    genres  \\\n",
              "23298    64835               Corpo celeste (2011)                   [Drama]   \n",
              "34152   206292                  The Desert (2013)  [Science Fiction, Drama]   \n",
              "38120   348315                 Clean Hands (2015)  [Crime, Drama, Thriller]   \n",
              "34466    20907  Opium: Diary of a Madwoman (2007)                   [Drama]   \n",
              "\n",
              "         imdb_id                                           overview  \\\n",
              "23298  tt1886502  [After, growing, up, in, Switzerland,, 13-year...   \n",
              "34152  tt2665470  [The, failed, story, of, a, love, triangle, in...   \n",
              "38120  tt3855240  [Sylvia, has, turned, a, blind, eye, for, too,...   \n",
              "34466  tt0803052  [A, drug-addicted, doctor, who, works, in, an,...   \n",
              "\n",
              "                            poster_path  runtime  \n",
              "23298  /mVc2oIwMtl83fDi2BZ9QH0jKIoH.jpg      100  \n",
              "34152  /g3O5u6sDCypCiGDUeGrpYk7ZJgh.jpg       98  \n",
              "38120  /n7e3UySlfKPkS89ajfJ3td0EdNr.jpg      100  \n",
              "34466  /gmOopHuQiwkWUtRpvch2rTwzndH.jpg      113  "
            ]
          },
          "execution_count": 46,
          "metadata": {},
          "output_type": "execute_result"
        }
      ],
      "source": [
        "movies['overview'] = movies['overview'].apply(lambda x:x.split())\n",
        "movies.sample(4)"
      ]
    },
    {
      "cell_type": "code",
      "execution_count": 47,
      "metadata": {
        "id": "cPbFnrhwH0oj"
      },
      "outputs": [],
      "source": [
        "# now removing space like that\n",
        "'Anna Kendrick'\n",
        "'AnnaKendrick'\n",
        "\n",
        "def remove_space(L):\n",
        "    L1 = []\n",
        "    for i in L:\n",
        "        L1.append(i.replace(\" \",\"\"))\n",
        "    return L1"
      ]
    },
    {
      "cell_type": "code",
      "execution_count": 48,
      "metadata": {
        "id": "eggJBxl3H7FJ"
      },
      "outputs": [],
      "source": [
        "movies['genres'] = movies['genres'].apply(remove_space)"
      ]
    },
    {
      "cell_type": "code",
      "execution_count": 49,
      "metadata": {
        "colab": {
          "base_uri": "https://localhost:8080/",
          "height": 379
        },
        "id": "Ya_jP8YoIHA8",
        "outputId": "447a8dcb-0de9-4d1f-9eb9-2983197f7f21"
      },
      "outputs": [
        {
          "data": {
            "text/html": [
              "<div>\n",
              "<style scoped>\n",
              "    .dataframe tbody tr th:only-of-type {\n",
              "        vertical-align: middle;\n",
              "    }\n",
              "\n",
              "    .dataframe tbody tr th {\n",
              "        vertical-align: top;\n",
              "    }\n",
              "\n",
              "    .dataframe thead th {\n",
              "        text-align: right;\n",
              "    }\n",
              "</style>\n",
              "<table border=\"1\" class=\"dataframe\">\n",
              "  <thead>\n",
              "    <tr style=\"text-align: right;\">\n",
              "      <th></th>\n",
              "      <th>movieId</th>\n",
              "      <th>title</th>\n",
              "      <th>genres</th>\n",
              "      <th>imdb_id</th>\n",
              "      <th>overview</th>\n",
              "      <th>poster_path</th>\n",
              "      <th>runtime</th>\n",
              "    </tr>\n",
              "  </thead>\n",
              "  <tbody>\n",
              "    <tr>\n",
              "      <th>0</th>\n",
              "      <td>862</td>\n",
              "      <td>Toy Story (1995)</td>\n",
              "      <td>[Animation, Comedy, Family]</td>\n",
              "      <td>tt0114709</td>\n",
              "      <td>[Led, by, Woody,, Andy's, toys, live, happily,...</td>\n",
              "      <td>/rhIRbceoE9lR4veEXuwCC2wARtG.jpg</td>\n",
              "      <td>81</td>\n",
              "    </tr>\n",
              "    <tr>\n",
              "      <th>1</th>\n",
              "      <td>8844</td>\n",
              "      <td>Jumanji (1995)</td>\n",
              "      <td>[Adventure, Fantasy, Family]</td>\n",
              "      <td>tt0113497</td>\n",
              "      <td>[When, siblings, Judy, and, Peter, discover, a...</td>\n",
              "      <td>/vzmL6fP7aPKNKPRTFnZmiUfciyV.jpg</td>\n",
              "      <td>104</td>\n",
              "    </tr>\n",
              "    <tr>\n",
              "      <th>2</th>\n",
              "      <td>15602</td>\n",
              "      <td>Grumpier Old Men (1995)</td>\n",
              "      <td>[Romance, Comedy]</td>\n",
              "      <td>tt0113228</td>\n",
              "      <td>[A, family, wedding, reignites, the, ancient, ...</td>\n",
              "      <td>/6ksm1sjKMFLbO7UY2i6G1ju9SML.jpg</td>\n",
              "      <td>101</td>\n",
              "    </tr>\n",
              "    <tr>\n",
              "      <th>3</th>\n",
              "      <td>31357</td>\n",
              "      <td>Waiting to Exhale (1995)</td>\n",
              "      <td>[Comedy, Drama, Romance]</td>\n",
              "      <td>tt0114885</td>\n",
              "      <td>[Cheated, on,, mistreated, and, stepped, on,, ...</td>\n",
              "      <td>/16XOMpEaLWkrcPqSQqhTmeJuqQl.jpg</td>\n",
              "      <td>127</td>\n",
              "    </tr>\n",
              "    <tr>\n",
              "      <th>4</th>\n",
              "      <td>11862</td>\n",
              "      <td>Father of the Bride Part II (1995)</td>\n",
              "      <td>[Comedy]</td>\n",
              "      <td>tt0113041</td>\n",
              "      <td>[Just, when, George, Banks, has, recovered, fr...</td>\n",
              "      <td>/e64sOI48hQXyru7naBFyssKFxVd.jpg</td>\n",
              "      <td>106</td>\n",
              "    </tr>\n",
              "  </tbody>\n",
              "</table>\n",
              "</div>"
            ],
            "text/plain": [
              "   movieId                               title                        genres  \\\n",
              "0      862                    Toy Story (1995)   [Animation, Comedy, Family]   \n",
              "1     8844                      Jumanji (1995)  [Adventure, Fantasy, Family]   \n",
              "2    15602             Grumpier Old Men (1995)             [Romance, Comedy]   \n",
              "3    31357            Waiting to Exhale (1995)      [Comedy, Drama, Romance]   \n",
              "4    11862  Father of the Bride Part II (1995)                      [Comedy]   \n",
              "\n",
              "     imdb_id                                           overview  \\\n",
              "0  tt0114709  [Led, by, Woody,, Andy's, toys, live, happily,...   \n",
              "1  tt0113497  [When, siblings, Judy, and, Peter, discover, a...   \n",
              "2  tt0113228  [A, family, wedding, reignites, the, ancient, ...   \n",
              "3  tt0114885  [Cheated, on,, mistreated, and, stepped, on,, ...   \n",
              "4  tt0113041  [Just, when, George, Banks, has, recovered, fr...   \n",
              "\n",
              "                        poster_path  runtime  \n",
              "0  /rhIRbceoE9lR4veEXuwCC2wARtG.jpg       81  \n",
              "1  /vzmL6fP7aPKNKPRTFnZmiUfciyV.jpg      104  \n",
              "2  /6ksm1sjKMFLbO7UY2i6G1ju9SML.jpg      101  \n",
              "3  /16XOMpEaLWkrcPqSQqhTmeJuqQl.jpg      127  \n",
              "4  /e64sOI48hQXyru7naBFyssKFxVd.jpg      106  "
            ]
          },
          "execution_count": 49,
          "metadata": {},
          "output_type": "execute_result"
        }
      ],
      "source": [
        "movies.head()"
      ]
    },
    {
      "cell_type": "code",
      "execution_count": 50,
      "metadata": {
        "colab": {
          "base_uri": "https://localhost:8080/",
          "height": 241
        },
        "id": "HhzsuqoKIQY2",
        "outputId": "e11f4f18-db1e-4c01-a6f5-f11034db01ef"
      },
      "outputs": [
        {
          "data": {
            "text/html": [
              "<div>\n",
              "<style scoped>\n",
              "    .dataframe tbody tr th:only-of-type {\n",
              "        vertical-align: middle;\n",
              "    }\n",
              "\n",
              "    .dataframe tbody tr th {\n",
              "        vertical-align: top;\n",
              "    }\n",
              "\n",
              "    .dataframe thead th {\n",
              "        text-align: right;\n",
              "    }\n",
              "</style>\n",
              "<table border=\"1\" class=\"dataframe\">\n",
              "  <thead>\n",
              "    <tr style=\"text-align: right;\">\n",
              "      <th></th>\n",
              "      <th>movieId</th>\n",
              "      <th>title</th>\n",
              "      <th>genres</th>\n",
              "      <th>overview</th>\n",
              "      <th>runtime</th>\n",
              "    </tr>\n",
              "  </thead>\n",
              "  <tbody>\n",
              "    <tr>\n",
              "      <th>0</th>\n",
              "      <td>862</td>\n",
              "      <td>Toy Story (1995)</td>\n",
              "      <td>[Animation, Comedy, Family]</td>\n",
              "      <td>[Led, by, Woody,, Andy's, toys, live, happily,...</td>\n",
              "      <td>81</td>\n",
              "    </tr>\n",
              "    <tr>\n",
              "      <th>1</th>\n",
              "      <td>8844</td>\n",
              "      <td>Jumanji (1995)</td>\n",
              "      <td>[Adventure, Fantasy, Family]</td>\n",
              "      <td>[When, siblings, Judy, and, Peter, discover, a...</td>\n",
              "      <td>104</td>\n",
              "    </tr>\n",
              "    <tr>\n",
              "      <th>2</th>\n",
              "      <td>15602</td>\n",
              "      <td>Grumpier Old Men (1995)</td>\n",
              "      <td>[Romance, Comedy]</td>\n",
              "      <td>[A, family, wedding, reignites, the, ancient, ...</td>\n",
              "      <td>101</td>\n",
              "    </tr>\n",
              "    <tr>\n",
              "      <th>3</th>\n",
              "      <td>31357</td>\n",
              "      <td>Waiting to Exhale (1995)</td>\n",
              "      <td>[Comedy, Drama, Romance]</td>\n",
              "      <td>[Cheated, on,, mistreated, and, stepped, on,, ...</td>\n",
              "      <td>127</td>\n",
              "    </tr>\n",
              "    <tr>\n",
              "      <th>4</th>\n",
              "      <td>11862</td>\n",
              "      <td>Father of the Bride Part II (1995)</td>\n",
              "      <td>[Comedy]</td>\n",
              "      <td>[Just, when, George, Banks, has, recovered, fr...</td>\n",
              "      <td>106</td>\n",
              "    </tr>\n",
              "  </tbody>\n",
              "</table>\n",
              "</div>"
            ],
            "text/plain": [
              "   movieId                               title                        genres  \\\n",
              "0      862                    Toy Story (1995)   [Animation, Comedy, Family]   \n",
              "1     8844                      Jumanji (1995)  [Adventure, Fantasy, Family]   \n",
              "2    15602             Grumpier Old Men (1995)             [Romance, Comedy]   \n",
              "3    31357            Waiting to Exhale (1995)      [Comedy, Drama, Romance]   \n",
              "4    11862  Father of the Bride Part II (1995)                      [Comedy]   \n",
              "\n",
              "                                            overview  runtime  \n",
              "0  [Led, by, Woody,, Andy's, toys, live, happily,...       81  \n",
              "1  [When, siblings, Judy, and, Peter, discover, a...      104  \n",
              "2  [A, family, wedding, reignites, the, ancient, ...      101  \n",
              "3  [Cheated, on,, mistreated, and, stepped, on,, ...      127  \n",
              "4  [Just, when, George, Banks, has, recovered, fr...      106  "
            ]
          },
          "execution_count": 50,
          "metadata": {},
          "output_type": "execute_result"
        }
      ],
      "source": [
        "movies = movies[['movieId','title','genres','overview','runtime']]\n",
        "movies.head()\n"
      ]
    },
    {
      "cell_type": "code",
      "execution_count": 51,
      "metadata": {
        "colab": {
          "base_uri": "https://localhost:8080/"
        },
        "id": "T-_ekp-CIg6a",
        "outputId": "4e55b132-017a-4c1d-ee39-7bf2b45784d5"
      },
      "outputs": [
        {
          "data": {
            "text/plain": [
              "['Led',\n",
              " 'by',\n",
              " 'Woody,',\n",
              " \"Andy's\",\n",
              " 'toys',\n",
              " 'live',\n",
              " 'happily',\n",
              " 'in',\n",
              " 'his',\n",
              " 'room',\n",
              " 'until',\n",
              " \"Andy's\",\n",
              " 'birthday',\n",
              " 'brings',\n",
              " 'Buzz',\n",
              " 'Lightyear',\n",
              " 'onto',\n",
              " 'the',\n",
              " 'scene.',\n",
              " 'Afraid',\n",
              " 'of',\n",
              " 'losing',\n",
              " 'his',\n",
              " 'place',\n",
              " 'in',\n",
              " \"Andy's\",\n",
              " 'heart,',\n",
              " 'Woody',\n",
              " 'plots',\n",
              " 'against',\n",
              " 'Buzz.',\n",
              " 'But',\n",
              " 'when',\n",
              " 'circumstances',\n",
              " 'separate',\n",
              " 'Buzz',\n",
              " 'and',\n",
              " 'Woody',\n",
              " 'from',\n",
              " 'their',\n",
              " 'owner,',\n",
              " 'the',\n",
              " 'duo',\n",
              " 'eventually',\n",
              " 'learns',\n",
              " 'to',\n",
              " 'put',\n",
              " 'aside',\n",
              " 'their',\n",
              " 'differences.',\n",
              " 'Animation',\n",
              " 'Comedy',\n",
              " 'Family']"
            ]
          },
          "execution_count": 51,
          "metadata": {},
          "output_type": "execute_result"
        }
      ],
      "source": [
        "movies['tags'] = movies['overview'] + movies['genres']\n",
        "movies.head()\n",
        "movies.iloc[0]['tags']"
      ]
    },
    {
      "cell_type": "code",
      "execution_count": 52,
      "metadata": {
        "colab": {
          "base_uri": "https://localhost:8080/",
          "height": 206
        },
        "id": "DXibbGkRJkfP",
        "outputId": "5835c027-e803-43f8-b27c-7d950f05a667"
      },
      "outputs": [
        {
          "data": {
            "text/html": [
              "<div>\n",
              "<style scoped>\n",
              "    .dataframe tbody tr th:only-of-type {\n",
              "        vertical-align: middle;\n",
              "    }\n",
              "\n",
              "    .dataframe tbody tr th {\n",
              "        vertical-align: top;\n",
              "    }\n",
              "\n",
              "    .dataframe thead th {\n",
              "        text-align: right;\n",
              "    }\n",
              "</style>\n",
              "<table border=\"1\" class=\"dataframe\">\n",
              "  <thead>\n",
              "    <tr style=\"text-align: right;\">\n",
              "      <th></th>\n",
              "      <th>movieId</th>\n",
              "      <th>title</th>\n",
              "      <th>tags</th>\n",
              "    </tr>\n",
              "  </thead>\n",
              "  <tbody>\n",
              "    <tr>\n",
              "      <th>0</th>\n",
              "      <td>862</td>\n",
              "      <td>Toy Story (1995)</td>\n",
              "      <td>[Led, by, Woody,, Andy's, toys, live, happily,...</td>\n",
              "    </tr>\n",
              "    <tr>\n",
              "      <th>1</th>\n",
              "      <td>8844</td>\n",
              "      <td>Jumanji (1995)</td>\n",
              "      <td>[When, siblings, Judy, and, Peter, discover, a...</td>\n",
              "    </tr>\n",
              "    <tr>\n",
              "      <th>2</th>\n",
              "      <td>15602</td>\n",
              "      <td>Grumpier Old Men (1995)</td>\n",
              "      <td>[A, family, wedding, reignites, the, ancient, ...</td>\n",
              "    </tr>\n",
              "    <tr>\n",
              "      <th>3</th>\n",
              "      <td>31357</td>\n",
              "      <td>Waiting to Exhale (1995)</td>\n",
              "      <td>[Cheated, on,, mistreated, and, stepped, on,, ...</td>\n",
              "    </tr>\n",
              "    <tr>\n",
              "      <th>4</th>\n",
              "      <td>11862</td>\n",
              "      <td>Father of the Bride Part II (1995)</td>\n",
              "      <td>[Just, when, George, Banks, has, recovered, fr...</td>\n",
              "    </tr>\n",
              "  </tbody>\n",
              "</table>\n",
              "</div>"
            ],
            "text/plain": [
              "   movieId                               title  \\\n",
              "0      862                    Toy Story (1995)   \n",
              "1     8844                      Jumanji (1995)   \n",
              "2    15602             Grumpier Old Men (1995)   \n",
              "3    31357            Waiting to Exhale (1995)   \n",
              "4    11862  Father of the Bride Part II (1995)   \n",
              "\n",
              "                                                tags  \n",
              "0  [Led, by, Woody,, Andy's, toys, live, happily,...  \n",
              "1  [When, siblings, Judy, and, Peter, discover, a...  \n",
              "2  [A, family, wedding, reignites, the, ancient, ...  \n",
              "3  [Cheated, on,, mistreated, and, stepped, on,, ...  \n",
              "4  [Just, when, George, Banks, has, recovered, fr...  "
            ]
          },
          "execution_count": 52,
          "metadata": {},
          "output_type": "execute_result"
        }
      ],
      "source": [
        "new_df = movies[['movieId','title','tags']]\n",
        "new_df.head()"
      ]
    },
    {
      "cell_type": "code",
      "execution_count": 53,
      "metadata": {
        "colab": {
          "base_uri": "https://localhost:8080/",
          "height": 330
        },
        "id": "cajoYz_jKFHx",
        "outputId": "a6acfe06-2837-46d2-cafe-1f1ca473cace"
      },
      "outputs": [
        {
          "name": "stderr",
          "output_type": "stream",
          "text": [
            "C:\\Users\\skand\\AppData\\Local\\Temp\\ipykernel_32240\\3674298559.py:2: SettingWithCopyWarning: \n",
            "A value is trying to be set on a copy of a slice from a DataFrame.\n",
            "Try using .loc[row_indexer,col_indexer] = value instead\n",
            "\n",
            "See the caveats in the documentation: https://pandas.pydata.org/pandas-docs/stable/user_guide/indexing.html#returning-a-view-versus-a-copy\n",
            "  new_df['tags'] = new_df['tags'].apply(lambda x: \" \".join(x))\n"
          ]
        },
        {
          "data": {
            "text/html": [
              "<div>\n",
              "<style scoped>\n",
              "    .dataframe tbody tr th:only-of-type {\n",
              "        vertical-align: middle;\n",
              "    }\n",
              "\n",
              "    .dataframe tbody tr th {\n",
              "        vertical-align: top;\n",
              "    }\n",
              "\n",
              "    .dataframe thead th {\n",
              "        text-align: right;\n",
              "    }\n",
              "</style>\n",
              "<table border=\"1\" class=\"dataframe\">\n",
              "  <thead>\n",
              "    <tr style=\"text-align: right;\">\n",
              "      <th></th>\n",
              "      <th>movieId</th>\n",
              "      <th>title</th>\n",
              "      <th>tags</th>\n",
              "    </tr>\n",
              "  </thead>\n",
              "  <tbody>\n",
              "    <tr>\n",
              "      <th>0</th>\n",
              "      <td>862</td>\n",
              "      <td>Toy Story (1995)</td>\n",
              "      <td>Led by Woody, Andy's toys live happily in his ...</td>\n",
              "    </tr>\n",
              "    <tr>\n",
              "      <th>1</th>\n",
              "      <td>8844</td>\n",
              "      <td>Jumanji (1995)</td>\n",
              "      <td>When siblings Judy and Peter discover an encha...</td>\n",
              "    </tr>\n",
              "    <tr>\n",
              "      <th>2</th>\n",
              "      <td>15602</td>\n",
              "      <td>Grumpier Old Men (1995)</td>\n",
              "      <td>A family wedding reignites the ancient feud be...</td>\n",
              "    </tr>\n",
              "    <tr>\n",
              "      <th>3</th>\n",
              "      <td>31357</td>\n",
              "      <td>Waiting to Exhale (1995)</td>\n",
              "      <td>Cheated on, mistreated and stepped on, the wom...</td>\n",
              "    </tr>\n",
              "    <tr>\n",
              "      <th>4</th>\n",
              "      <td>11862</td>\n",
              "      <td>Father of the Bride Part II (1995)</td>\n",
              "      <td>Just when George Banks has recovered from his ...</td>\n",
              "    </tr>\n",
              "  </tbody>\n",
              "</table>\n",
              "</div>"
            ],
            "text/plain": [
              "   movieId                               title  \\\n",
              "0      862                    Toy Story (1995)   \n",
              "1     8844                      Jumanji (1995)   \n",
              "2    15602             Grumpier Old Men (1995)   \n",
              "3    31357            Waiting to Exhale (1995)   \n",
              "4    11862  Father of the Bride Part II (1995)   \n",
              "\n",
              "                                                tags  \n",
              "0  Led by Woody, Andy's toys live happily in his ...  \n",
              "1  When siblings Judy and Peter discover an encha...  \n",
              "2  A family wedding reignites the ancient feud be...  \n",
              "3  Cheated on, mistreated and stepped on, the wom...  \n",
              "4  Just when George Banks has recovered from his ...  "
            ]
          },
          "execution_count": 53,
          "metadata": {},
          "output_type": "execute_result"
        }
      ],
      "source": [
        "# Converting list to str\n",
        "new_df['tags'] = new_df['tags'].apply(lambda x: \" \".join(x))\n",
        "new_df.head()"
      ]
    },
    {
      "cell_type": "code",
      "execution_count": 54,
      "metadata": {
        "colab": {
          "base_uri": "https://localhost:8080/",
          "height": 330
        },
        "id": "je-x-04BJ0zm",
        "outputId": "1d315840-813b-42f1-c389-cfe239f481eb"
      },
      "outputs": [
        {
          "name": "stderr",
          "output_type": "stream",
          "text": [
            "C:\\Users\\skand\\AppData\\Local\\Temp\\ipykernel_32240\\1783511216.py:2: SettingWithCopyWarning: \n",
            "A value is trying to be set on a copy of a slice from a DataFrame.\n",
            "Try using .loc[row_indexer,col_indexer] = value instead\n",
            "\n",
            "See the caveats in the documentation: https://pandas.pydata.org/pandas-docs/stable/user_guide/indexing.html#returning-a-view-versus-a-copy\n",
            "  new_df['tags'] = new_df['tags'].apply(lambda x:x.lower())\n"
          ]
        },
        {
          "data": {
            "text/html": [
              "<div>\n",
              "<style scoped>\n",
              "    .dataframe tbody tr th:only-of-type {\n",
              "        vertical-align: middle;\n",
              "    }\n",
              "\n",
              "    .dataframe tbody tr th {\n",
              "        vertical-align: top;\n",
              "    }\n",
              "\n",
              "    .dataframe thead th {\n",
              "        text-align: right;\n",
              "    }\n",
              "</style>\n",
              "<table border=\"1\" class=\"dataframe\">\n",
              "  <thead>\n",
              "    <tr style=\"text-align: right;\">\n",
              "      <th></th>\n",
              "      <th>movieId</th>\n",
              "      <th>title</th>\n",
              "      <th>tags</th>\n",
              "    </tr>\n",
              "  </thead>\n",
              "  <tbody>\n",
              "    <tr>\n",
              "      <th>0</th>\n",
              "      <td>862</td>\n",
              "      <td>Toy Story (1995)</td>\n",
              "      <td>led by woody, andy's toys live happily in his ...</td>\n",
              "    </tr>\n",
              "    <tr>\n",
              "      <th>1</th>\n",
              "      <td>8844</td>\n",
              "      <td>Jumanji (1995)</td>\n",
              "      <td>when siblings judy and peter discover an encha...</td>\n",
              "    </tr>\n",
              "    <tr>\n",
              "      <th>2</th>\n",
              "      <td>15602</td>\n",
              "      <td>Grumpier Old Men (1995)</td>\n",
              "      <td>a family wedding reignites the ancient feud be...</td>\n",
              "    </tr>\n",
              "    <tr>\n",
              "      <th>3</th>\n",
              "      <td>31357</td>\n",
              "      <td>Waiting to Exhale (1995)</td>\n",
              "      <td>cheated on, mistreated and stepped on, the wom...</td>\n",
              "    </tr>\n",
              "    <tr>\n",
              "      <th>4</th>\n",
              "      <td>11862</td>\n",
              "      <td>Father of the Bride Part II (1995)</td>\n",
              "      <td>just when george banks has recovered from his ...</td>\n",
              "    </tr>\n",
              "  </tbody>\n",
              "</table>\n",
              "</div>"
            ],
            "text/plain": [
              "   movieId                               title  \\\n",
              "0      862                    Toy Story (1995)   \n",
              "1     8844                      Jumanji (1995)   \n",
              "2    15602             Grumpier Old Men (1995)   \n",
              "3    31357            Waiting to Exhale (1995)   \n",
              "4    11862  Father of the Bride Part II (1995)   \n",
              "\n",
              "                                                tags  \n",
              "0  led by woody, andy's toys live happily in his ...  \n",
              "1  when siblings judy and peter discover an encha...  \n",
              "2  a family wedding reignites the ancient feud be...  \n",
              "3  cheated on, mistreated and stepped on, the wom...  \n",
              "4  just when george banks has recovered from his ...  "
            ]
          },
          "execution_count": 54,
          "metadata": {},
          "output_type": "execute_result"
        }
      ],
      "source": [
        "# Converting to lower case\n",
        "new_df['tags'] = new_df['tags'].apply(lambda x:x.lower())\n",
        "new_df.head()"
      ]
    },
    {
      "cell_type": "code",
      "execution_count": 55,
      "metadata": {
        "id": "O6N2TNWjKIcz"
      },
      "outputs": [],
      "source": [
        "import nltk\n",
        "from nltk.stem import PorterStemmer"
      ]
    },
    {
      "cell_type": "code",
      "execution_count": 56,
      "metadata": {
        "id": "G7iemAb2KUyq"
      },
      "outputs": [],
      "source": [
        "ps = PorterStemmer()"
      ]
    },
    {
      "cell_type": "code",
      "execution_count": 57,
      "metadata": {
        "id": "rnNEuNvvKZML"
      },
      "outputs": [],
      "source": [
        "def stems(text):\n",
        "    T = []\n",
        "\n",
        "    for i in text.split():\n",
        "        T.append(ps.stem(i))\n",
        "\n",
        "    return \" \".join(T)"
      ]
    },
    {
      "cell_type": "code",
      "execution_count": 58,
      "metadata": {
        "colab": {
          "base_uri": "https://localhost:8080/",
          "height": 194
        },
        "id": "yqdqQjgDKeJk",
        "outputId": "7f7fa312-2512-4553-9951-68920ad55444"
      },
      "outputs": [
        {
          "name": "stderr",
          "output_type": "stream",
          "text": [
            "C:\\Users\\skand\\AppData\\Local\\Temp\\ipykernel_32240\\1430047571.py:1: SettingWithCopyWarning: \n",
            "A value is trying to be set on a copy of a slice from a DataFrame.\n",
            "Try using .loc[row_indexer,col_indexer] = value instead\n",
            "\n",
            "See the caveats in the documentation: https://pandas.pydata.org/pandas-docs/stable/user_guide/indexing.html#returning-a-view-versus-a-copy\n",
            "  new_df['tags'] = new_df['tags'].apply(stems)\n"
          ]
        },
        {
          "data": {
            "text/plain": [
              "\"led by woody, andy' toy live happili in hi room until andy' birthday bring buzz lightyear onto the scene. afraid of lose hi place in andy' heart, woodi plot against buzz. but when circumst separ buzz and woodi from their owner, the duo eventu learn to put asid their differences. anim comedi famili\""
            ]
          },
          "execution_count": 58,
          "metadata": {},
          "output_type": "execute_result"
        }
      ],
      "source": [
        "new_df['tags'] = new_df['tags'].apply(stems)\n",
        "new_df.iloc[0]['tags']"
      ]
    },
    {
      "cell_type": "code",
      "execution_count": 59,
      "metadata": {
        "id": "kX71p_RlKwOS"
      },
      "outputs": [
        {
          "ename": "ImportError",
          "evalue": "The `scipy` install you are using seems to be broken, (extension modules cannot be imported), please try reinstalling.",
          "output_type": "error",
          "traceback": [
            "\u001b[1;31m---------------------------------------------------------------------------\u001b[0m",
            "\u001b[1;31mModuleNotFoundError\u001b[0m                       Traceback (most recent call last)",
            "File \u001b[1;32mc:\\Users\\skand\\anaconda3\\envs\\myenv\\lib\\site-packages\\scipy\\__init__.py:86\u001b[0m\n\u001b[0;32m     85\u001b[0m \u001b[38;5;28;01mtry\u001b[39;00m:\n\u001b[1;32m---> 86\u001b[0m     \u001b[38;5;28;01mfrom\u001b[39;00m \u001b[38;5;21;01mscipy\u001b[39;00m\u001b[38;5;21;01m.\u001b[39;00m\u001b[38;5;21;01m_lib\u001b[39;00m\u001b[38;5;21;01m.\u001b[39;00m\u001b[38;5;21;01m_ccallback\u001b[39;00m \u001b[38;5;28;01mimport\u001b[39;00m LowLevelCallable\n\u001b[0;32m     87\u001b[0m \u001b[38;5;28;01mexcept\u001b[39;00m \u001b[38;5;167;01mImportError\u001b[39;00m \u001b[38;5;28;01mas\u001b[39;00m e:\n",
            "\u001b[1;31mModuleNotFoundError\u001b[0m: No module named 'scipy._lib._ccallback'",
            "\nThe above exception was the direct cause of the following exception:\n",
            "\u001b[1;31mImportError\u001b[0m                               Traceback (most recent call last)",
            "Cell \u001b[1;32mIn[59], line 1\u001b[0m\n\u001b[1;32m----> 1\u001b[0m \u001b[38;5;28;01mfrom\u001b[39;00m \u001b[38;5;21;01msklearn\u001b[39;00m\u001b[38;5;21;01m.\u001b[39;00m\u001b[38;5;21;01mfeature_extraction\u001b[39;00m\u001b[38;5;21;01m.\u001b[39;00m\u001b[38;5;21;01mtext\u001b[39;00m \u001b[38;5;28;01mimport\u001b[39;00m CountVectorizer\n\u001b[0;32m      2\u001b[0m cv \u001b[38;5;241m=\u001b[39m CountVectorizer(max_features\u001b[38;5;241m=\u001b[39m\u001b[38;5;241m5000\u001b[39m,stop_words\u001b[38;5;241m=\u001b[39m\u001b[38;5;124m'\u001b[39m\u001b[38;5;124menglish\u001b[39m\u001b[38;5;124m'\u001b[39m)\n",
            "File \u001b[1;32mc:\\Users\\skand\\anaconda3\\envs\\myenv\\lib\\site-packages\\sklearn\\__init__.py:84\u001b[0m\n\u001b[0;32m     70\u001b[0m     \u001b[38;5;66;03m# We are not importing the rest of scikit-learn during the build\u001b[39;00m\n\u001b[0;32m     71\u001b[0m     \u001b[38;5;66;03m# process, as it may not be compiled yet\u001b[39;00m\n\u001b[0;32m     72\u001b[0m \u001b[38;5;28;01melse\u001b[39;00m:\n\u001b[1;32m   (...)\u001b[0m\n\u001b[0;32m     78\u001b[0m     \u001b[38;5;66;03m# later is linked to the OpenMP runtime to make it possible to introspect\u001b[39;00m\n\u001b[0;32m     79\u001b[0m     \u001b[38;5;66;03m# it and importing it first would fail if the OpenMP dll cannot be found.\u001b[39;00m\n\u001b[0;32m     80\u001b[0m     \u001b[38;5;28;01mfrom\u001b[39;00m \u001b[38;5;21;01m.\u001b[39;00m \u001b[38;5;28;01mimport\u001b[39;00m (\n\u001b[0;32m     81\u001b[0m         __check_build,  \u001b[38;5;66;03m# noqa: F401\u001b[39;00m\n\u001b[0;32m     82\u001b[0m         _distributor_init,  \u001b[38;5;66;03m# noqa: F401\u001b[39;00m\n\u001b[0;32m     83\u001b[0m     )\n\u001b[1;32m---> 84\u001b[0m     \u001b[38;5;28;01mfrom\u001b[39;00m \u001b[38;5;21;01m.\u001b[39;00m\u001b[38;5;21;01mbase\u001b[39;00m \u001b[38;5;28;01mimport\u001b[39;00m clone\n\u001b[0;32m     85\u001b[0m     \u001b[38;5;28;01mfrom\u001b[39;00m \u001b[38;5;21;01m.\u001b[39;00m\u001b[38;5;21;01mutils\u001b[39;00m\u001b[38;5;21;01m.\u001b[39;00m\u001b[38;5;21;01m_show_versions\u001b[39;00m \u001b[38;5;28;01mimport\u001b[39;00m show_versions\n\u001b[0;32m     87\u001b[0m     __all__ \u001b[38;5;241m=\u001b[39m [\n\u001b[0;32m     88\u001b[0m         \u001b[38;5;124m\"\u001b[39m\u001b[38;5;124mcalibration\u001b[39m\u001b[38;5;124m\"\u001b[39m,\n\u001b[0;32m     89\u001b[0m         \u001b[38;5;124m\"\u001b[39m\u001b[38;5;124mcluster\u001b[39m\u001b[38;5;124m\"\u001b[39m,\n\u001b[1;32m   (...)\u001b[0m\n\u001b[0;32m    130\u001b[0m         \u001b[38;5;124m\"\u001b[39m\u001b[38;5;124mshow_versions\u001b[39m\u001b[38;5;124m\"\u001b[39m,\n\u001b[0;32m    131\u001b[0m     ]\n",
            "File \u001b[1;32mc:\\Users\\skand\\anaconda3\\envs\\myenv\\lib\\site-packages\\sklearn\\base.py:19\u001b[0m\n\u001b[0;32m     17\u001b[0m \u001b[38;5;28;01mfrom\u001b[39;00m \u001b[38;5;21;01m.\u001b[39;00m\u001b[38;5;21;01m_config\u001b[39;00m \u001b[38;5;28;01mimport\u001b[39;00m config_context, get_config\n\u001b[0;32m     18\u001b[0m \u001b[38;5;28;01mfrom\u001b[39;00m \u001b[38;5;21;01m.\u001b[39;00m\u001b[38;5;21;01mexceptions\u001b[39;00m \u001b[38;5;28;01mimport\u001b[39;00m InconsistentVersionWarning\n\u001b[1;32m---> 19\u001b[0m \u001b[38;5;28;01mfrom\u001b[39;00m \u001b[38;5;21;01m.\u001b[39;00m\u001b[38;5;21;01mutils\u001b[39;00m\u001b[38;5;21;01m.\u001b[39;00m\u001b[38;5;21;01m_estimator_html_repr\u001b[39;00m \u001b[38;5;28;01mimport\u001b[39;00m _HTMLDocumentationLinkMixin, estimator_html_repr\n\u001b[0;32m     20\u001b[0m \u001b[38;5;28;01mfrom\u001b[39;00m \u001b[38;5;21;01m.\u001b[39;00m\u001b[38;5;21;01mutils\u001b[39;00m\u001b[38;5;21;01m.\u001b[39;00m\u001b[38;5;21;01m_metadata_requests\u001b[39;00m \u001b[38;5;28;01mimport\u001b[39;00m _MetadataRequester, _routing_enabled\n\u001b[0;32m     21\u001b[0m \u001b[38;5;28;01mfrom\u001b[39;00m \u001b[38;5;21;01m.\u001b[39;00m\u001b[38;5;21;01mutils\u001b[39;00m\u001b[38;5;21;01m.\u001b[39;00m\u001b[38;5;21;01m_param_validation\u001b[39;00m \u001b[38;5;28;01mimport\u001b[39;00m validate_parameter_constraints\n",
            "File \u001b[1;32mc:\\Users\\skand\\anaconda3\\envs\\myenv\\lib\\site-packages\\sklearn\\utils\\__init__.py:11\u001b[0m\n\u001b[0;32m      9\u001b[0m \u001b[38;5;28;01mfrom\u001b[39;00m \u001b[38;5;21;01m.\u001b[39;00m \u001b[38;5;28;01mimport\u001b[39;00m _joblib, metadata_routing\n\u001b[0;32m     10\u001b[0m \u001b[38;5;28;01mfrom\u001b[39;00m \u001b[38;5;21;01m.\u001b[39;00m\u001b[38;5;21;01m_bunch\u001b[39;00m \u001b[38;5;28;01mimport\u001b[39;00m Bunch\n\u001b[1;32m---> 11\u001b[0m \u001b[38;5;28;01mfrom\u001b[39;00m \u001b[38;5;21;01m.\u001b[39;00m\u001b[38;5;21;01m_chunking\u001b[39;00m \u001b[38;5;28;01mimport\u001b[39;00m gen_batches, gen_even_slices\n\u001b[0;32m     12\u001b[0m \u001b[38;5;28;01mfrom\u001b[39;00m \u001b[38;5;21;01m.\u001b[39;00m\u001b[38;5;21;01m_estimator_html_repr\u001b[39;00m \u001b[38;5;28;01mimport\u001b[39;00m estimator_html_repr\n\u001b[0;32m     14\u001b[0m \u001b[38;5;66;03m# Make _safe_indexing importable from here for backward compat as this particular\u001b[39;00m\n\u001b[0;32m     15\u001b[0m \u001b[38;5;66;03m# helper is considered semi-private and typically very useful for third-party\u001b[39;00m\n\u001b[0;32m     16\u001b[0m \u001b[38;5;66;03m# libraries that want to comply with scikit-learn's estimator API. In particular,\u001b[39;00m\n\u001b[0;32m     17\u001b[0m \u001b[38;5;66;03m# _safe_indexing was included in our public API documentation despite the leading\u001b[39;00m\n\u001b[0;32m     18\u001b[0m \u001b[38;5;66;03m# `_` in its name.\u001b[39;00m\n",
            "File \u001b[1;32mc:\\Users\\skand\\anaconda3\\envs\\myenv\\lib\\site-packages\\sklearn\\utils\\_chunking.py:8\u001b[0m\n\u001b[0;32m      5\u001b[0m \u001b[38;5;28;01mimport\u001b[39;00m \u001b[38;5;21;01mnumpy\u001b[39;00m \u001b[38;5;28;01mas\u001b[39;00m \u001b[38;5;21;01mnp\u001b[39;00m\n\u001b[0;32m      7\u001b[0m \u001b[38;5;28;01mfrom\u001b[39;00m \u001b[38;5;21;01m.\u001b[39;00m\u001b[38;5;21;01m.\u001b[39;00m\u001b[38;5;21;01m_config\u001b[39;00m \u001b[38;5;28;01mimport\u001b[39;00m get_config\n\u001b[1;32m----> 8\u001b[0m \u001b[38;5;28;01mfrom\u001b[39;00m \u001b[38;5;21;01m.\u001b[39;00m\u001b[38;5;21;01m_param_validation\u001b[39;00m \u001b[38;5;28;01mimport\u001b[39;00m Interval, validate_params\n\u001b[0;32m     11\u001b[0m \u001b[38;5;28;01mdef\u001b[39;00m \u001b[38;5;21mchunk_generator\u001b[39m(gen, chunksize):\n\u001b[0;32m     12\u001b[0m \u001b[38;5;250m    \u001b[39m\u001b[38;5;124;03m\"\"\"Chunk generator, ``gen`` into lists of length ``chunksize``. The last\u001b[39;00m\n\u001b[0;32m     13\u001b[0m \u001b[38;5;124;03m    chunk may have a length less than ``chunksize``.\"\"\"\u001b[39;00m\n",
            "File \u001b[1;32mc:\\Users\\skand\\anaconda3\\envs\\myenv\\lib\\site-packages\\sklearn\\utils\\_param_validation.py:11\u001b[0m\n\u001b[0;32m      8\u001b[0m \u001b[38;5;28;01mfrom\u001b[39;00m \u001b[38;5;21;01mnumbers\u001b[39;00m \u001b[38;5;28;01mimport\u001b[39;00m Integral, Real\n\u001b[0;32m     10\u001b[0m \u001b[38;5;28;01mimport\u001b[39;00m \u001b[38;5;21;01mnumpy\u001b[39;00m \u001b[38;5;28;01mas\u001b[39;00m \u001b[38;5;21;01mnp\u001b[39;00m\n\u001b[1;32m---> 11\u001b[0m \u001b[38;5;28;01mfrom\u001b[39;00m \u001b[38;5;21;01mscipy\u001b[39;00m\u001b[38;5;21;01m.\u001b[39;00m\u001b[38;5;21;01msparse\u001b[39;00m \u001b[38;5;28;01mimport\u001b[39;00m csr_matrix, issparse\n\u001b[0;32m     13\u001b[0m \u001b[38;5;28;01mfrom\u001b[39;00m \u001b[38;5;21;01m.\u001b[39;00m\u001b[38;5;21;01m.\u001b[39;00m\u001b[38;5;21;01m_config\u001b[39;00m \u001b[38;5;28;01mimport\u001b[39;00m config_context, get_config\n\u001b[0;32m     14\u001b[0m \u001b[38;5;28;01mfrom\u001b[39;00m \u001b[38;5;21;01m.\u001b[39;00m\u001b[38;5;21;01mvalidation\u001b[39;00m \u001b[38;5;28;01mimport\u001b[39;00m _is_arraylike_not_scalar\n",
            "File \u001b[1;32mc:\\Users\\skand\\anaconda3\\envs\\myenv\\lib\\site-packages\\scipy\\__init__.py:91\u001b[0m\n\u001b[0;32m     87\u001b[0m \u001b[38;5;28;01mexcept\u001b[39;00m \u001b[38;5;167;01mImportError\u001b[39;00m \u001b[38;5;28;01mas\u001b[39;00m e:\n\u001b[0;32m     88\u001b[0m     msg \u001b[38;5;241m=\u001b[39m \u001b[38;5;124m\"\u001b[39m\u001b[38;5;124mThe `scipy` install you are using seems to be broken, \u001b[39m\u001b[38;5;124m\"\u001b[39m \u001b[38;5;241m+\u001b[39m \\\n\u001b[0;32m     89\u001b[0m           \u001b[38;5;124m\"\u001b[39m\u001b[38;5;124m(extension modules cannot be imported), \u001b[39m\u001b[38;5;124m\"\u001b[39m \u001b[38;5;241m+\u001b[39m \\\n\u001b[0;32m     90\u001b[0m           \u001b[38;5;124m\"\u001b[39m\u001b[38;5;124mplease try reinstalling.\u001b[39m\u001b[38;5;124m\"\u001b[39m\n\u001b[1;32m---> 91\u001b[0m     \u001b[38;5;28;01mraise\u001b[39;00m \u001b[38;5;167;01mImportError\u001b[39;00m(msg) \u001b[38;5;28;01mfrom\u001b[39;00m \u001b[38;5;21;01me\u001b[39;00m\n\u001b[0;32m     94\u001b[0m \u001b[38;5;28;01mfrom\u001b[39;00m \u001b[38;5;21;01mscipy\u001b[39;00m\u001b[38;5;21;01m.\u001b[39;00m\u001b[38;5;21;01m_lib\u001b[39;00m\u001b[38;5;21;01m.\u001b[39;00m\u001b[38;5;21;01m_testutils\u001b[39;00m \u001b[38;5;28;01mimport\u001b[39;00m PytestTester\n\u001b[0;32m     95\u001b[0m test \u001b[38;5;241m=\u001b[39m PytestTester(\u001b[38;5;18m__name__\u001b[39m)\n",
            "\u001b[1;31mImportError\u001b[0m: The `scipy` install you are using seems to be broken, (extension modules cannot be imported), please try reinstalling."
          ]
        }
      ],
      "source": [
        "from sklearn.feature_extraction.text import CountVectorizer\n",
        "cv = CountVectorizer(max_features=5000,stop_words='english')"
      ]
    },
    {
      "cell_type": "code",
      "execution_count": 25,
      "metadata": {
        "id": "AHEgm-ayK0D9"
      },
      "outputs": [],
      "source": [
        "vector = cv.fit_transform(new_df['tags']).toarray()"
      ]
    },
    {
      "cell_type": "code",
      "execution_count": 26,
      "metadata": {
        "colab": {
          "base_uri": "https://localhost:8080/"
        },
        "id": "2VNYMbAPK3mO",
        "outputId": "d6aad548-72b6-47c1-885f-025152850321"
      },
      "outputs": [
        {
          "data": {
            "text/plain": [
              "(42102, 5000)"
            ]
          },
          "execution_count": 26,
          "metadata": {},
          "output_type": "execute_result"
        }
      ],
      "source": [
        "vector.shape"
      ]
    },
    {
      "cell_type": "code",
      "execution_count": 27,
      "metadata": {
        "id": "Vdi6RNkYK6iR"
      },
      "outputs": [],
      "source": [
        "from sklearn.metrics.pairwise import cosine_similarity"
      ]
    },
    {
      "cell_type": "code",
      "execution_count": null,
      "metadata": {
        "id": "x0IacuiLK-_4"
      },
      "outputs": [],
      "source": [
        "similarity = cosine_similarity(vector)\n",
        "similarity.shape"
      ]
    },
    {
      "cell_type": "code",
      "execution_count": null,
      "metadata": {},
      "outputs": [],
      "source": [
        "def recommend(movie):\n",
        "    index = new_df[new_df['title'] == movie].index[0]\n",
        "    distances = sorted(list(enumerate(similarity[index])),reverse=True,key = lambda x: x[1])\n",
        "    for i in distances[1:6]:\n",
        "        print(new_df.iloc[i[0]].title)"
      ]
    },
    {
      "cell_type": "code",
      "execution_count": null,
      "metadata": {},
      "outputs": [],
      "source": [
        "recommend('Spider-Man 2')"
      ]
    },
    {
      "cell_type": "code",
      "execution_count": null,
      "metadata": {},
      "outputs": [],
      "source": [
        "import pickle\n",
        "pickle.dump(new_df,open('artifacts/movie_list.pkl','wb'))\n",
        "pickle.dump(similarity,open('artifacts/similarity.pkl','wb'))"
      ]
    }
  ],
  "metadata": {
    "colab": {
      "provenance": []
    },
    "kernelspec": {
      "display_name": "myenv",
      "language": "python",
      "name": "python3"
    },
    "language_info": {
      "codemirror_mode": {
        "name": "ipython",
        "version": 3
      },
      "file_extension": ".py",
      "mimetype": "text/x-python",
      "name": "python",
      "nbconvert_exporter": "python",
      "pygments_lexer": "ipython3",
      "version": "3.9.20"
    }
  },
  "nbformat": 4,
  "nbformat_minor": 0
}
